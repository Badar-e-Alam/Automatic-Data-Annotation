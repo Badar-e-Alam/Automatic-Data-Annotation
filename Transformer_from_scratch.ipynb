{
  "cells": [
    {
      "cell_type": "markdown",
      "metadata": {
        "id": "view-in-github",
        "colab_type": "text"
      },
      "source": [
        "<a href=\"https://colab.research.google.com/github/Badar-e-alam/Automatic-Data-Annotation/blob/main/Transformer_from_scratch.ipynb\" target=\"_parent\"><img src=\"https://colab.research.google.com/assets/colab-badge.svg\" alt=\"Open In Colab\"/></a>"
      ]
    },
    {
      "cell_type": "code",
      "execution_count": null,
      "metadata": {
        "id": "QxGARqha6iHk"
      },
      "outputs": [],
      "source": [
        "import torch\n",
        "from torch import nn\n",
        "import os\n",
        "import numpy as np\n",
        "from torch.nn import functional as F"
      ]
    },
    {
      "cell_type": "code",
      "execution_count": null,
      "metadata": {
        "id": "dE8VXzAi7G2U"
      },
      "outputs": [],
      "source": [
        "#Reading the dataset\n",
        "with open(\"/content/drive/MyDrive/input.txt\",\"r\",encoding=\"utf-8\") as file:\n",
        "  text=file.read()"
      ]
    },
    {
      "cell_type": "code",
      "execution_count": null,
      "metadata": {
        "colab": {
          "base_uri": "https://localhost:8080/"
        },
        "id": "4YswhBQY8Krx",
        "outputId": "53f75d7a-0144-4c10-840a-0cdd14a81865"
      },
      "outputs": [
        {
          "name": "stdout",
          "output_type": "stream",
          "text": [
            "length of the characters in dataset 1115394\n"
          ]
        }
      ],
      "source": [
        "#one million characters roughly\n",
        "print(\"length of the characters in dataset\", len(text))"
      ]
    },
    {
      "cell_type": "markdown",
      "metadata": {
        "id": "palHOFM0Qkk0"
      },
      "source": [
        "# Hyper Parameters"
      ]
    },
    {
      "cell_type": "code",
      "execution_count": null,
      "metadata": {
        "id": "mLfYmx6SQkPy"
      },
      "outputs": [],
      "source": [
        "batch_size=64 #how many independent sequences will we process in paraller? \n",
        "block_size=256 #what is the maximum context lenght for predictions?\n",
        "max_iter=5000 \n",
        "n_embd=384\n",
        "eval_interval=500\n",
        "learning_rate=3e-4\n",
        "device=\"cuda\" if torch.cuda.is_available() else \"cpu\"\n",
        "eval_iter=200\n",
        "n_head=6\n",
        "n_layer=6\n",
        "torch.manual_seed(1337)\n",
        "dropout = 0.2"
      ]
    },
    {
      "cell_type": "code",
      "execution_count": null,
      "metadata": {
        "colab": {
          "base_uri": "https://localhost:8080/",
          "height": 35
        },
        "id": "x10gW7qm2IeU",
        "outputId": "fe89b558-b56e-4838-f1b1-62f5b33945b3"
      },
      "outputs": [
        {
          "data": {
            "application/vnd.google.colaboratory.intrinsic+json": {
              "type": "string"
            },
            "text/plain": [
              "'cuda'"
            ]
          },
          "execution_count": 34,
          "metadata": {},
          "output_type": "execute_result"
        }
      ],
      "source": [
        "device"
      ]
    },
    {
      "cell_type": "code",
      "execution_count": null,
      "metadata": {
        "colab": {
          "base_uri": "https://localhost:8080/"
        },
        "id": "IE_S3b3Q8ODV",
        "outputId": "d58ade19-1de9-4726-d00f-f50d7987b89b"
      },
      "outputs": [
        {
          "name": "stdout",
          "output_type": "stream",
          "text": [
            "First Citizen:\n",
            "Before we proceed any further, hear me speak.\n",
            "\n",
            "All:\n",
            "Speak, speak.\n",
            "\n",
            "First Citizen:\n",
            "You are all resolved rather to die than to famish?\n",
            "\n",
            "All:\n",
            "Resolved. resolved.\n",
            "\n",
            "First Citizen:\n",
            "First, you know Caius Marcius is chief enemy to the people.\n",
            "\n",
            "All:\n",
            "We know't, we know't.\n",
            "\n",
            "First Citizen:\n",
            "Let us kill him, and we'll have corn at our own price.\n",
            "Is't a verdict?\n",
            "\n",
            "All:\n",
            "No more talking on't; let it be done: away, away!\n",
            "\n",
            "Second Citizen:\n",
            "One word, good citizens.\n",
            "\n",
            "First Citizen:\n",
            "We are accounted poor\n"
          ]
        }
      ],
      "source": [
        "#simple plan text from shakespeare style\n",
        "print(text[:500])"
      ]
    },
    {
      "cell_type": "code",
      "execution_count": null,
      "metadata": {
        "colab": {
          "base_uri": "https://localhost:8080/"
        },
        "id": "-nvrKMss8fqg",
        "outputId": "491c8c4c-6985-4348-d666-61aaca18eca1"
      },
      "outputs": [
        {
          "name": "stdout",
          "output_type": "stream",
          "text": [
            "\n",
            "   ! $ & ' , - . 3 : ; ? A B C D E F G H I J K L M N O P Q R S T U V W X Y Z a b c d e f g h i j k l m n o p q r s t u v w x y z\n",
            "length of vocab 65\n"
          ]
        }
      ],
      "source": [
        "#get the unique character from the dataset for vocabulary building\n",
        "chars=sorted(list(set(text)))\n",
        "vocab_size=len(chars)\n",
        "print(\" \".join(chars))\n",
        "print(\"length of vocab\",vocab_size)"
      ]
    },
    {
      "cell_type": "code",
      "execution_count": null,
      "metadata": {
        "id": "tk1Za-J_85KN"
      },
      "outputs": [],
      "source": [
        "#create the mapping from the char to  integers\n",
        "str_int={ ch:i for i,ch in enumerate(chars)}\n",
        "int_str={i:ch for i,ch in enumerate(chars)}\n",
        "encoder=lambda s:[str_int[c]for c in s]\n",
        "decoder=lambda l:\"\".join([int_str[i] for i in l])"
      ]
    },
    {
      "cell_type": "code",
      "execution_count": null,
      "metadata": {
        "colab": {
          "base_uri": "https://localhost:8080/"
        },
        "id": "HZOyz1hx91Rm",
        "outputId": "808739f8-6ed6-41c0-a875-433eefeeda1f"
      },
      "outputs": [
        {
          "name": "stdout",
          "output_type": "stream",
          "text": [
            "[46, 47, 1, 54, 43, 53, 54, 50, 43]\n",
            "Hi people\n"
          ]
        }
      ],
      "source": [
        "print(encoder(\"hi people\"))\n",
        "print(decoder(encoder(\"Hi people\")))"
      ]
    },
    {
      "cell_type": "code",
      "execution_count": null,
      "metadata": {
        "colab": {
          "base_uri": "https://localhost:8080/"
        },
        "id": "a7IP8VglEk-5",
        "outputId": "a05cba1d-1b3a-450e-8ae4-d9507adea484"
      },
      "outputs": [
        {
          "name": "stdout",
          "output_type": "stream",
          "text": [
            "Looking in indexes: https://pypi.org/simple, https://us-python.pkg.dev/colab-wheels/public/simple/\n",
            "Requirement already satisfied: tiktoken in /usr/local/lib/python3.8/dist-packages (0.1.2)\n",
            "Requirement already satisfied: requests>=2.26.0 in /usr/local/lib/python3.8/dist-packages (from tiktoken) (2.28.2)\n",
            "Requirement already satisfied: regex>=2022.1.18 in /usr/local/lib/python3.8/dist-packages (from tiktoken) (2022.6.2)\n",
            "Requirement already satisfied: blobfile>=2 in /usr/local/lib/python3.8/dist-packages (from tiktoken) (2.0.1)\n",
            "Requirement already satisfied: lxml~=4.9 in /usr/local/lib/python3.8/dist-packages (from blobfile>=2->tiktoken) (4.9.2)\n",
            "Requirement already satisfied: urllib3<3,>=1.25.3 in /usr/local/lib/python3.8/dist-packages (from blobfile>=2->tiktoken) (1.26.14)\n",
            "Requirement already satisfied: filelock~=3.0 in /usr/local/lib/python3.8/dist-packages (from blobfile>=2->tiktoken) (3.9.0)\n",
            "Requirement already satisfied: pycryptodomex~=3.8 in /usr/local/lib/python3.8/dist-packages (from blobfile>=2->tiktoken) (3.16.0)\n",
            "Requirement already satisfied: certifi>=2017.4.17 in /usr/local/lib/python3.8/dist-packages (from requests>=2.26.0->tiktoken) (2022.12.7)\n",
            "Requirement already satisfied: charset-normalizer<4,>=2 in /usr/local/lib/python3.8/dist-packages (from requests>=2.26.0->tiktoken) (2.1.1)\n",
            "Requirement already satisfied: idna<4,>=2.5 in /usr/local/lib/python3.8/dist-packages (from requests>=2.26.0->tiktoken) (2.10)\n",
            "word to word embedign [17250, 661]\n"
          ]
        }
      ],
      "source": [
        "#chatgpt uses the this tokenizer \n",
        "!pip install tiktoken\n",
        "import tiktoken\n",
        "enc=tiktoken.get_encoding(\"gpt2\")\n",
        "print(\"word to word embedign\",enc.encode(\"Hi people\"))\n",
        "assert enc.decode(enc.encode(\"Hi people\"))==\"Hi people\""
      ]
    },
    {
      "cell_type": "code",
      "execution_count": null,
      "metadata": {
        "id": "EUv57WS0Kd7B"
      },
      "outputs": [],
      "source": [
        "decode=lambda l:\"\".join([int_str[i.item()] for i in l])"
      ]
    },
    {
      "cell_type": "code",
      "execution_count": null,
      "metadata": {
        "id": "RegoY6SpFJ1o"
      },
      "outputs": [],
      "source": [
        "#encoding all of the text from the dataset \n",
        "data=torch.tensor(encoder(text),dtype=torch.long)\n",
        "print(data.shape,data.dtype)\n",
        "print(\"original text\",text[:500])\n",
        "print(data[:500]) #First 500 character displayed earlier\n",
        "print(\"Geting back from decorder\",decode(data[:500]))"
      ]
    },
    {
      "cell_type": "code",
      "execution_count": null,
      "metadata": {
        "colab": {
          "base_uri": "https://localhost:8080/"
        },
        "id": "FF26-VoyJU38",
        "outputId": "5a02537d-9881-43e4-c2c2-f1c07f4ad3c6"
      },
      "outputs": [
        {
          "name": "stdout",
          "output_type": "stream",
          "text": [
            "data length: 1115394 and 90 percent of it: 1003854\n"
          ]
        }
      ],
      "source": [
        "#dataspliting into the train and validation \n",
        "n=int(len(data)*0.9)\n",
        "print(f\"data length: {len(data)} and 90 percent of it: {n}\")\n",
        "train_data=data[:n]# first 90 % goes to training\n",
        "val_data=data[n:]# after train data will come validation data"
      ]
    },
    {
      "cell_type": "code",
      "execution_count": null,
      "metadata": {
        "id": "2Bo-ymJvFUN6"
      },
      "outputs": [],
      "source": [
        "#we cant feed all the text  for the training that why we use the block size to get the chunk of the data\n",
        "train_data[:block_size]\n",
        "# if 8block is until 18 then 47 is next char which should be generated and if util 47 is block size then the 56 should be generated and so on"
      ]
    },
    {
      "cell_type": "code",
      "execution_count": null,
      "metadata": {
        "id": "w3erxf2YMaSc"
      },
      "outputs": [],
      "source": [
        "x=train_data[:block_size]\n",
        "y=train_data[1:block_size+1]# alread one next then the X\n",
        "for t in range(block_size):\n",
        "  context=x[:t+1]\n",
        "  target=y[t]\n",
        "  #print(f\"When input is {context} model will generate {target}\")"
      ]
    },
    {
      "cell_type": "code",
      "execution_count": null,
      "metadata": {
        "id": "It1_DSkzNQBI"
      },
      "outputs": [],
      "source": [
        "def get_batch(split):\n",
        "  #generate a small batch of the input x and target y\n",
        "  data = train_data if split == 'train' else val_data\n",
        "  ix = torch.randint(len(data) - block_size, (batch_size,))\n",
        "  x = torch.stack([data[i:i+block_size] for i in ix])\n",
        "  y = torch.stack([data[i+1:i+block_size+1] for i in ix])\n",
        "  return x,y\n",
        "   # generate a small batch of data of inputs x and targets y\n",
        "input,label=get_batch(\"train\")\n",
        "#print(\"input_shape\",input.shape)\n",
        "#print(input)\n",
        "#print(\"Target \",label.shape)\n",
        "#print(label)\n",
        "#print(\"___________________\")\n",
        "for b in range(batch_size):\n",
        "  for t in range(block_size):\n",
        "    context=input[b,:t+1]\n",
        "    target=label[b,t]\n",
        "    #print(f\"when the input is {context.tolist()} the target is: {target}\")"
      ]
    },
    {
      "cell_type": "code",
      "execution_count": null,
      "metadata": {
        "id": "ySzEdl1qS_rQ"
      },
      "outputs": [],
      "source": [
        "class Head(nn.Module):\n",
        "    \"\"\" one head of self-attention \"\"\"\n",
        "\n",
        "    def __init__(self, head_size):\n",
        "        super().__init__()\n",
        "        self.key = nn.Linear(n_embd, head_size, bias=False)\n",
        "        self.query = nn.Linear(n_embd, head_size, bias=False)\n",
        "        self.value = nn.Linear(n_embd, head_size, bias=False)\n",
        "        self.register_buffer('tril', torch.tril(torch.ones(block_size, block_size)))\n",
        "\n",
        "        self.dropout = nn.Dropout(dropout)\n",
        "\n",
        "    def forward(self, x):\n",
        "        B,T,C = x.shape\n",
        "        k = self.key(x)   # (B,T,C)\n",
        "        q = self.query(x) # (B,T,C)\n",
        "        # compute attention scores (\"affinities\")\n",
        "        wei = q @ k.transpose(-2,-1) * C**-0.5 # (B, T, C) @ (B, C, T) -> (B, T, T)\n",
        "        wei = wei.masked_fill(self.tril[:T, :T] == 0, float('-inf')) # (B, T, T)\n",
        "        wei = F.softmax(wei, dim=-1) # (B, T, T)\n",
        "        wei = self.dropout(wei)\n",
        "        # perform the weighted aggregation of the values\n",
        "        v = self.value(x) # (B,T,C)\n",
        "        out = wei @ v # (B, T, T) @ (B, T, C) -> (B, T, C)\n",
        "        return out"
      ]
    },
    {
      "cell_type": "code",
      "execution_count": null,
      "metadata": {
        "id": "JpGWezofa7KK"
      },
      "outputs": [],
      "source": [
        "class MultiHeadAttention(nn.Module):\n",
        "  \"Multiple heads of the self_attention in parallel\"\n",
        "  def __init__(self,num_heads,head_size):\n",
        "    super().__init__()\n",
        "    self.heads=nn.ModuleList([Head(head_size) for _ in range(num_heads)])\n",
        "    self.proj=nn.Linear(n_embd,n_embd)\n",
        "    self.dropout=nn.Dropout(dropout)\n",
        "\n",
        "  def forward(self,x):\n",
        "    out= torch.cat([h(x) for h in self.heads],dim=-1)\n",
        "    out=self.dropout (self.proj(out))\n",
        "    return out"
      ]
    },
    {
      "cell_type": "code",
      "execution_count": null,
      "metadata": {
        "id": "cZSB8q6Ir5jI"
      },
      "outputs": [],
      "source": [
        "from torch.nn.modules.dropout import Dropout\n",
        "class FeedForwad(nn.Module):\n",
        "\n",
        "  \"\"\"Simple a linear layer followed by a non linearity\"\"\"\n",
        "  def __init__(self,n_embd):\n",
        "    super().__init__()\n",
        "    self.net=nn.Sequential(\n",
        "        nn.Linear(n_embd,4*n_embd),\n",
        "        nn.ReLU(),\n",
        "        nn.Linear(4*n_embd,n_embd),\n",
        "        nn.Dropout(dropout)\n",
        "    )\n",
        "  def forward(self,x):\n",
        "    return self.net(x)\n"
      ]
    },
    {
      "cell_type": "code",
      "execution_count": null,
      "metadata": {
        "id": "MA3TYza7sueG"
      },
      "outputs": [],
      "source": [
        "class Block(nn.Module):\n",
        "  def __init__(self,n_embd,n_head):\n",
        "    super().__init__()\n",
        "    head_size=n_embd//n_head\n",
        "    self.sa=MultiHeadAttention(n_head,head_size)\n",
        "    self.feedforward=FeedForwad(n_embd)\n",
        "    self.ln1=nn.LayerNorm(n_embd)\n",
        "    self.ln2=nn.LayerNorm(n_embd)\n",
        "  def forward(self,x):\n",
        "    x=x+self.sa(self.ln1(x))\n",
        "    x=x+self.feedforward(self.ln2(x))\n",
        "    return x\n",
        "    "
      ]
    },
    {
      "cell_type": "code",
      "execution_count": null,
      "metadata": {
        "id": "Zr83iLkWQIZ2"
      },
      "outputs": [],
      "source": [
        "class BigramLanguageModel(nn.Module):\n",
        "  def __init__(self):\n",
        "    super().__init__()\n",
        "    #each token directly read off the logits for the next lookup table\n",
        "    self.token_embedding_table=nn.Embedding(vocab_size,n_embd)\n",
        "    self.position_emdedding_tabel=nn.Embedding(block_size,n_embd)\n",
        "    #self.sa_head=MultiHeadAttention(4,n_embd//4) # 4 heads with 8-diminsional self attention this then concatnates and give us the original 32 whihc is n-emdb for positional encoding\n",
        "    self.blocks=nn.Sequential(*[Block(n_embd,n_head=n_head) for _ in range(n_layer)]   )\n",
        "    self.ln_f=nn.LayerNorm(n_embd)\n",
        "    self.lm_head=nn.Linear(n_embd,vocab_size)\n",
        "\n",
        "  def forward(self,idx,targets=None):\n",
        "      B,T=idx.shape\n",
        "      tok_emd=self.token_embedding_table(idx)\n",
        "      pos_emd=self.position_emdedding_tabel(torch.arange(T,device=device))\n",
        "      x=tok_emd+pos_emd\n",
        "      x=self.blocks(x)\n",
        "      x=self.ln_f(x)\n",
        "      logits=self.lm_head(x)\n",
        "       #dim(B,T,C) B: Btach Size T: block_size and C: vocab_size\n",
        "      #before computing loss we have to flatten the channels or inot\n",
        "      if targets==None:\n",
        "          loss=None\n",
        "      else:\n",
        "          B,T,C=logits.shape \n",
        "          logits=logits.view(B*T,C)\n",
        "          targets=targets.view(B*T)\n",
        "          loss=F.cross_entropy(logits,targets)\n",
        "        \n",
        "      return logits,loss\n",
        "\n",
        "  def generate(self, idx, max_new_tokens):\n",
        "        # idx is (B, T) array of indices in the current context\n",
        "        for _ in range(max_new_tokens):\n",
        "            # crop idx to the last block_size tokens\n",
        "            idx_cond = idx[:, -block_size:]\n",
        "            # get the predictions\n",
        "            logits, loss = self(idx_cond)\n",
        "            # focus only on the last time step\n",
        "            logits = logits[:, -1, :] # becomes (B, C)\n",
        "            # apply softmax to get probabilities\n",
        "            probs = F.softmax(logits, dim=-1) # (B, C)\n",
        "            # sample from the distribution\n",
        "            idx_next = torch.multinomial(probs, num_samples=1) # (B, 1)\n",
        "            # append sampled index to the running sequence\n",
        "            idx = torch.cat((idx, idx_next), dim=1) # (B, T+1)\n",
        "        return idx\n",
        "  def generate2(self,idx,max_new_tokens):\n",
        "    #idx is the B,T array of the indices in the current context\n",
        "      for _ in range(max_new_tokens):\n",
        "          logits,loss=self(idx,None)# make prediction\n",
        "          logits=logits[:,-1,:]# make B,C\n",
        "          probs=F.softmax(logits,dim=-1)# (B,C)\n",
        "          #sample from the distribution \n",
        "          idx_next=torch.multinomial(probs,num_samples=1) #(B,1)\n",
        "          idx=torch.cat((idx,idx_next),dim=1) #(B,T+1)\n",
        "      return idx\n"
      ]
    },
    {
      "cell_type": "code",
      "execution_count": null,
      "metadata": {
        "id": "lAGF5nAsstMw"
      },
      "outputs": [],
      "source": []
    },
    {
      "cell_type": "code",
      "execution_count": null,
      "metadata": {
        "id": "0ioWdEkxW8Dl"
      },
      "outputs": [],
      "source": [
        "@torch.no_grad()\n",
        "def estimate_loss():\n",
        "    out = {}\n",
        "    model.eval()\n",
        "    for split in ['train', 'val']:\n",
        "        losses = torch.zeros(eval_iter).to(device)\n",
        "        for k in range(eval_iter):\n",
        "            X, Y = get_batch(split)\n",
        "            X=X.to(device)\n",
        "            Y=Y.to(device)\n",
        "            logits, loss = model(X, Y)\n",
        "            losses[k] = loss.item()\n",
        "        out[split] = losses.mean()\n",
        "    model.train()\n",
        "    return out\n"
      ]
    },
    {
      "cell_type": "code",
      "execution_count": null,
      "metadata": {
        "colab": {
          "background_save": true,
          "base_uri": "https://localhost:8080/"
        },
        "id": "YExt3Tk5SkX3",
        "outputId": "760afbfd-5bee-48f3-f186-cd7f22f4392c"
      },
      "outputs": [
        {
          "name": "stdout",
          "output_type": "stream",
          "text": [
            "step 0: train loss 4.3662, val loss 4.3594\n",
            "step 500: train loss 2.0144, val loss 2.0930\n",
            "step 1000: train loss 1.6022, val loss 1.7851\n",
            "step 1500: train loss 1.4368, val loss 1.6354\n",
            "step 2000: train loss 1.3390, val loss 1.5593\n",
            "step 2500: train loss 1.2781, val loss 1.5274\n",
            "step 3000: train loss 1.2253, val loss 1.5055\n",
            "step 3500: train loss 1.1820, val loss 1.4822\n",
            "step 4000: train loss 1.1453, val loss 1.4729\n",
            "step 4500: train loss 1.1090, val loss 1.4864\n"
          ]
        }
      ],
      "source": [
        "\n",
        "model= BigramLanguageModel()\n",
        "m = model.to(device)\n",
        "# create a PyTorch optimizer\n",
        "optimizer = torch.optim.AdamW(model.parameters(), lr=learning_rate)\n",
        "\n",
        "for iter in range(max_iter):\n",
        "\n",
        "    # every once in a while evaluate the loss on train and val sets''\n",
        "    if iter % eval_interval == 0:\n",
        "        losses = estimate_loss()\n",
        "        print(f\"step {iter}: train loss {losses['train']:.4f}, val loss {losses['val']:.4f}\")\n",
        "\n",
        "    # sample a batch of data\n",
        "    xb, yb = get_batch('train')\n",
        "    xb=xb.to(device)\n",
        "    yb=yb.to(device)\n",
        "    # evaluate the loss\n",
        "    logits, loss = model(xb, yb)\n",
        "    loss=loss.to(device)\n",
        "    logits=logits.to(device)\n",
        "    optimizer.zero_grad(set_to_none=True)\n",
        "    loss.backward()\n",
        "    optimizer.step()\n",
        "\n",
        "# generate from the model\n"
      ]
    },
    {
      "cell_type": "code",
      "execution_count": null,
      "metadata": {
        "id": "irI_nNdvW1mr"
      },
      "outputs": [],
      "source": [
        "# generate from the model\n",
        "context = torch.zeros((1, 1), dtype=torch.long, device=device)\n",
        "\n",
        "print(decoder(m.generate(context, max_new_tokens=500)[0].tolist()))"
      ]
    },
    {
      "cell_type": "code",
      "execution_count": null,
      "metadata": {
        "id": "UkUEu6A4SvLY"
      },
      "outputs": [],
      "source": [
        "context"
      ]
    },
    {
      "cell_type": "code",
      "execution_count": null,
      "metadata": {
        "id": "t10OZhBPMadC"
      },
      "outputs": [],
      "source": []
    }
  ],
  "metadata": {
    "accelerator": "GPU",
    "colab": {
      "provenance": [],
      "toc_visible": true,
      "mount_file_id": "1n0EVsx7Ax5PLk8mk1YrQ21nVmtSNzDpk",
      "authorship_tag": "ABX9TyNkftPXCjB8X9vlEmIqsv2t",
      "include_colab_link": true
    },
    "gpuClass": "standard",
    "kernelspec": {
      "display_name": "Python 3",
      "name": "python3"
    },
    "language_info": {
      "name": "python"
    }
  },
  "nbformat": 4,
  "nbformat_minor": 0
}